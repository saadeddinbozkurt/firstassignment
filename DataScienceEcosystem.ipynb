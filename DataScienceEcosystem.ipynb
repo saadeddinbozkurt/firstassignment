{
 "cells": [
  {
   "cell_type": "markdown",
   "id": "7e24a07d-89f2-4fd0-8b19-563f99085d55",
   "metadata": {},
   "source": [
    "**Data Science Tools and Ecosystem**"
   ]
  },
  {
   "cell_type": "markdown",
   "id": "b75f4fdf-547a-44c9-af97-fa634dc98851",
   "metadata": {},
   "source": [
    "In this notebook, Data Science Tools and Ecosystem are summarized."
   ]
  },
  {
   "cell_type": "markdown",
   "id": "9d7ca546-c145-4f5a-b248-fac98cb1baf0",
   "metadata": {},
   "source": [
    "Some of the popular languages that Data Scientists use are:\n",
    "1. Python\n",
    "2. Java\n",
    "3. C++\n",
    "4. C\n",
    "5. R\n",
    "6. R-Studio"
   ]
  },
  {
   "cell_type": "markdown",
   "id": "a0e4428c-994f-496d-a1da-38854d58a2e4",
   "metadata": {},
   "source": [
    "Some of the commonly used libraries used by Data Scientists include:\n",
    "1. Numpy\n",
    "2. Pandas\n",
    "3. Matplotlib\n",
    "4. Seaborn\n",
    "5. Tenroflow\n",
    "6. PyTorch\n",
    "7. ggplot2\n",
    "8. Caret"
   ]
  },
  {
   "cell_type": "markdown",
   "id": "386a6227-9a6b-4182-a149-77bc7ceaa7f4",
   "metadata": {},
   "source": [
    "|Data Science Tools|\n",
    "|------------------|\n",
    "|Python|\n",
    "|SQL|\n",
    "|Julia|\n",
    "|R|"
   ]
  },
  {
   "cell_type": "markdown",
   "id": "0dd4e22b-5d47-4dbb-98c7-708dcb8a9743",
   "metadata": {},
   "source": [
    "***Below are a few examples of evaluating arithmetic expressions in Python.***"
   ]
  },
  {
   "cell_type": "code",
   "execution_count": 8,
   "id": "ed2a6bdc-59c5-4de1-a105-d7695167fbb6",
   "metadata": {},
   "outputs": [
    {
     "data": {
      "text/plain": [
       "17"
      ]
     },
     "execution_count": 8,
     "metadata": {},
     "output_type": "execute_result"
    }
   ],
   "source": [
    "#This a simple arithmetic expression to mutiply then add integers\n",
    "(3*4)+5"
   ]
  },
  {
   "cell_type": "code",
   "execution_count": 10,
   "id": "f0587ff4-23de-4dc2-b028-3dc61804d286",
   "metadata": {},
   "outputs": [
    {
     "data": {
      "text/plain": [
       "3.3333333333333335"
      ]
     },
     "execution_count": 10,
     "metadata": {},
     "output_type": "execute_result"
    }
   ],
   "source": [
    "#This will convert 200 minutes to hours by diving by 60\n",
    "200/60"
   ]
  },
  {
   "cell_type": "markdown",
   "id": "f863e16a-906c-4e4f-84a2-67faa42460c8",
   "metadata": {},
   "source": [
    "**Objectives**:\n",
    "-Python\n",
    "-R\n",
    "-C++\n",
    "-C"
   ]
  },
  {
   "cell_type": "markdown",
   "id": "7f4b6085-98c6-4d4f-9a01-1214829c2f18",
   "metadata": {},
   "source": [
    "**Author**\n",
    "Saadeddin"
   ]
  },
  {
   "cell_type": "markdown",
   "id": "d2522aad-1b51-4946-87a5-755f0b38a2f0",
   "metadata": {},
   "source": [
    "**Author**  Saadeddin"
   ]
  },
  {
   "cell_type": "markdown",
   "id": "83fe6ab6-4042-4762-a6eb-87ccc1c05488",
   "metadata": {},
   "source": [
    "**Author**  \n",
    "Saadeddin"
   ]
  },
  {
   "cell_type": "code",
   "execution_count": null,
   "id": "4def0d6d-6031-498d-b046-a4a1eb9663c7",
   "metadata": {},
   "outputs": [],
   "source": []
  }
 ],
 "metadata": {
  "kernelspec": {
   "display_name": "Python 3 (ipykernel)",
   "language": "python",
   "name": "python3"
  },
  "language_info": {
   "codemirror_mode": {
    "name": "ipython",
    "version": 3
   },
   "file_extension": ".py",
   "mimetype": "text/x-python",
   "name": "python",
   "nbconvert_exporter": "python",
   "pygments_lexer": "ipython3",
   "version": "3.12.4"
  }
 },
 "nbformat": 4,
 "nbformat_minor": 5
}
